{
  "nbformat": 4,
  "nbformat_minor": 0,
  "metadata": {
    "colab": {
      "provenance": []
    },
    "kernelspec": {
      "name": "python3",
      "display_name": "Python 3"
    },
    "language_info": {
      "name": "python"
    }
  },
  "cells": [
    {
      "cell_type": "markdown",
      "source": [
        "# 📊 **Introduction to Machine Learning with Scikit-Learn**\n",
        "\n",
        "Welcome to this **introductory guide to Machine Learning (ML)**! This notebook covers essential ML concepts using **Scikit-Learn**, starting from data preparation to model evaluation.\n"
      ],
      "metadata": {
        "id": "ae1fe1bZe-AO"
      }
    },
    {
      "cell_type": "markdown",
      "source": [
        "---"
      ],
      "metadata": {
        "id": "BFg0RjcMevhb"
      }
    },
    {
      "cell_type": "markdown",
      "source": [
        "## 🔵 **1: What is Machine Learning?**\n",
        "\n",
        "Machine Learning (ML) is a field of computer science that focuses on finding patterns in data. In hyper-simplified non-functional code, the procedure is:"
      ],
      "metadata": {
        "id": "iotuyH-5ewZ7"
      }
    },
    {
      "cell_type": "code",
      "source": [
        "# patterns = ml_algorithm(data)"
      ],
      "metadata": {
        "id": "SnF3q2s1ewgt"
      },
      "execution_count": null,
      "outputs": []
    },
    {
      "cell_type": "markdown",
      "source": [
        "There are two popular kinds of problems, also called learning scenarios, that ML practiioners confront.\n",
        "\n",
        "The simplest learning scenario is called **Unsupervised Learning**. In this case we want to find some hidden structure in the data provided. An archetypal problem in unsupervised learning is **clustering**. Clustering involves taking in a collection $X$ of $n$ vectors/arrays of real numbers $\\{x_1, \\dots, x_n\\}$ where $x_i\\in R^m$ and partitioning them into disjoint groups.\n"
      ],
      "metadata": {
        "id": "O25YbIjs6cpF"
      }
    },
    {
      "cell_type": "markdown",
      "source": [
        "---"
      ],
      "metadata": {
        "id": "6H9_RSQDewmg"
      }
    },
    {
      "cell_type": "code",
      "source": [
        "#clusters = clustering_algorithm(X)"
      ],
      "metadata": {
        "id": "rAslmzWa93rY"
      },
      "execution_count": null,
      "outputs": []
    },
    {
      "cell_type": "markdown",
      "source": [
        "\n",
        "The other learning scenario we consider is **supervised learning**. In this case each of the *observation* $x_i$ has a matched **label** $y_i$. The assumption is that there is some function $f$ that connects the observatons to the labels, that is\n",
        "$y_i = f(x_i)$.\n",
        "\n",
        "The goal of ML in supervised learning is to *learn a model*  $m_f$ that ``behaves like $f$.\" That is we want $m_f(x_i)$ to be close to $y_i$ for all $i$. Once $m_f$ has been constructed, we can use it to predict the labels on new data $X'$ where we may not know the labels. Again in cartoon code:\n"
      ],
      "metadata": {
        "id": "Xpbe6UMN7-dI"
      }
    },
    {
      "cell_type": "code",
      "source": [
        "#model = fit_model(X,y)\n",
        "#predicted_labels = model.predict(X_new)"
      ],
      "metadata": {
        "id": "6ieQriFN-A4V"
      },
      "execution_count": null,
      "outputs": []
    },
    {
      "cell_type": "markdown",
      "source": [
        "Supervised learning can be further subdivied into **regression problems** and **classification problems** based on the nature of their labels.\n",
        "\n",
        "Regression problems have continuous/real-valued labels. An example regression problem is predicting the price of a house from various measurements about it (e.g. size, neighborhood, number of bedrooms, etc.).\n",
        "\n",
        "For classification problems the labels from from a finite set of categories. An example classification problem is categorizing an e-mail as spam or not spam.\n"
      ],
      "metadata": {
        "id": "Lp3sRncA_FsC"
      }
    },
    {
      "cell_type": "markdown",
      "source": [
        "Fortunately we do need to rewrite ML algorithms from scratch. In python there is a comprehensive library called `scikit-learn` that has implemented many popular and effective machine learning algorithms that can be used \"off the shelf.\"  We will use `scikit-learn` to illustrate the basics of machine learning.\n"
      ],
      "metadata": {
        "id": "X8kurb-a_-r3"
      }
    },
    {
      "cell_type": "markdown",
      "source": [
        "## 🔵 **2: Loading & Exploring a Dataset**\n",
        "\n",
        "We are still missing a key ingredient: a dataset. For this we can use one of the many datasets included with `scikit-learn`. In particular we will use the commonly analyzed **Iris** dataset. This dataset contains information about three species of iris flowers. We will, over this and the following sections, build a classifier that inputs information and can classifies them as one of the three species of iris: *setosa*, *versicolor*, and *virginica*.\n",
        "\n",
        "\n",
        "\n",
        "In addition to `scikit-learn`, which focuses primarily on the machine learning side of things, we need two addition libraries: **NumPy** and **Pandas**. These libraries are used to manage and process data before and after analyzing it with `scikit-learn`. These libraries are installed in the normal way:"
      ],
      "metadata": {
        "id": "Y0BspNwTexny"
      }
    },
    {
      "cell_type": "code",
      "source": [
        "import numpy as np\n",
        "import pandas as pd\n"
      ],
      "metadata": {
        "id": "gcVOs_KJexKb"
      },
      "execution_count": null,
      "outputs": []
    },
    {
      "cell_type": "markdown",
      "source": [
        "Now we load the dataset proper.\n"
      ],
      "metadata": {
        "id": "0Bp8v8uOexBJ"
      }
    },
    {
      "cell_type": "code",
      "source": [
        "from sklearn.datasets import load_iris\n",
        "iris = load_iris()"
      ],
      "metadata": {
        "id": "RwMM16hRexwF"
      },
      "execution_count": null,
      "outputs": []
    },
    {
      "cell_type": "markdown",
      "source": [
        "As written the `iris` object is a dictionary with our data and the labels (also called targets) as well as some additional information or *metadata*. As a first step let's pull out the observations $X$ and the labels $y$:"
      ],
      "metadata": {
        "id": "5sIBH6QBIcxv"
      }
    },
    {
      "cell_type": "code",
      "source": [
        "X, y = iris['data'],iris['target']"
      ],
      "metadata": {
        "id": "3qdLC61bJFa9"
      },
      "execution_count": null,
      "outputs": []
    },
    {
      "cell_type": "markdown",
      "source": [
        "Okay, now what do these look like:"
      ],
      "metadata": {
        "id": "2P4LC3EMJfNt"
      }
    },
    {
      "cell_type": "code",
      "source": [
        "X"
      ],
      "metadata": {
        "colab": {
          "base_uri": "https://localhost:8080/"
        },
        "id": "kEmf9zWAJjB8",
        "outputId": "35e9cb5f-b979-4a42-e3a6-740428a76bf5"
      },
      "execution_count": null,
      "outputs": [
        {
          "output_type": "execute_result",
          "data": {
            "text/plain": [
              "array([[5.1, 3.5, 1.4, 0.2],\n",
              "       [4.9, 3. , 1.4, 0.2],\n",
              "       [4.7, 3.2, 1.3, 0.2],\n",
              "       [4.6, 3.1, 1.5, 0.2],\n",
              "       [5. , 3.6, 1.4, 0.2],\n",
              "       [5.4, 3.9, 1.7, 0.4],\n",
              "       [4.6, 3.4, 1.4, 0.3],\n",
              "       [5. , 3.4, 1.5, 0.2],\n",
              "       [4.4, 2.9, 1.4, 0.2],\n",
              "       [4.9, 3.1, 1.5, 0.1],\n",
              "       [5.4, 3.7, 1.5, 0.2],\n",
              "       [4.8, 3.4, 1.6, 0.2],\n",
              "       [4.8, 3. , 1.4, 0.1],\n",
              "       [4.3, 3. , 1.1, 0.1],\n",
              "       [5.8, 4. , 1.2, 0.2],\n",
              "       [5.7, 4.4, 1.5, 0.4],\n",
              "       [5.4, 3.9, 1.3, 0.4],\n",
              "       [5.1, 3.5, 1.4, 0.3],\n",
              "       [5.7, 3.8, 1.7, 0.3],\n",
              "       [5.1, 3.8, 1.5, 0.3],\n",
              "       [5.4, 3.4, 1.7, 0.2],\n",
              "       [5.1, 3.7, 1.5, 0.4],\n",
              "       [4.6, 3.6, 1. , 0.2],\n",
              "       [5.1, 3.3, 1.7, 0.5],\n",
              "       [4.8, 3.4, 1.9, 0.2],\n",
              "       [5. , 3. , 1.6, 0.2],\n",
              "       [5. , 3.4, 1.6, 0.4],\n",
              "       [5.2, 3.5, 1.5, 0.2],\n",
              "       [5.2, 3.4, 1.4, 0.2],\n",
              "       [4.7, 3.2, 1.6, 0.2],\n",
              "       [4.8, 3.1, 1.6, 0.2],\n",
              "       [5.4, 3.4, 1.5, 0.4],\n",
              "       [5.2, 4.1, 1.5, 0.1],\n",
              "       [5.5, 4.2, 1.4, 0.2],\n",
              "       [4.9, 3.1, 1.5, 0.2],\n",
              "       [5. , 3.2, 1.2, 0.2],\n",
              "       [5.5, 3.5, 1.3, 0.2],\n",
              "       [4.9, 3.6, 1.4, 0.1],\n",
              "       [4.4, 3. , 1.3, 0.2],\n",
              "       [5.1, 3.4, 1.5, 0.2],\n",
              "       [5. , 3.5, 1.3, 0.3],\n",
              "       [4.5, 2.3, 1.3, 0.3],\n",
              "       [4.4, 3.2, 1.3, 0.2],\n",
              "       [5. , 3.5, 1.6, 0.6],\n",
              "       [5.1, 3.8, 1.9, 0.4],\n",
              "       [4.8, 3. , 1.4, 0.3],\n",
              "       [5.1, 3.8, 1.6, 0.2],\n",
              "       [4.6, 3.2, 1.4, 0.2],\n",
              "       [5.3, 3.7, 1.5, 0.2],\n",
              "       [5. , 3.3, 1.4, 0.2],\n",
              "       [7. , 3.2, 4.7, 1.4],\n",
              "       [6.4, 3.2, 4.5, 1.5],\n",
              "       [6.9, 3.1, 4.9, 1.5],\n",
              "       [5.5, 2.3, 4. , 1.3],\n",
              "       [6.5, 2.8, 4.6, 1.5],\n",
              "       [5.7, 2.8, 4.5, 1.3],\n",
              "       [6.3, 3.3, 4.7, 1.6],\n",
              "       [4.9, 2.4, 3.3, 1. ],\n",
              "       [6.6, 2.9, 4.6, 1.3],\n",
              "       [5.2, 2.7, 3.9, 1.4],\n",
              "       [5. , 2. , 3.5, 1. ],\n",
              "       [5.9, 3. , 4.2, 1.5],\n",
              "       [6. , 2.2, 4. , 1. ],\n",
              "       [6.1, 2.9, 4.7, 1.4],\n",
              "       [5.6, 2.9, 3.6, 1.3],\n",
              "       [6.7, 3.1, 4.4, 1.4],\n",
              "       [5.6, 3. , 4.5, 1.5],\n",
              "       [5.8, 2.7, 4.1, 1. ],\n",
              "       [6.2, 2.2, 4.5, 1.5],\n",
              "       [5.6, 2.5, 3.9, 1.1],\n",
              "       [5.9, 3.2, 4.8, 1.8],\n",
              "       [6.1, 2.8, 4. , 1.3],\n",
              "       [6.3, 2.5, 4.9, 1.5],\n",
              "       [6.1, 2.8, 4.7, 1.2],\n",
              "       [6.4, 2.9, 4.3, 1.3],\n",
              "       [6.6, 3. , 4.4, 1.4],\n",
              "       [6.8, 2.8, 4.8, 1.4],\n",
              "       [6.7, 3. , 5. , 1.7],\n",
              "       [6. , 2.9, 4.5, 1.5],\n",
              "       [5.7, 2.6, 3.5, 1. ],\n",
              "       [5.5, 2.4, 3.8, 1.1],\n",
              "       [5.5, 2.4, 3.7, 1. ],\n",
              "       [5.8, 2.7, 3.9, 1.2],\n",
              "       [6. , 2.7, 5.1, 1.6],\n",
              "       [5.4, 3. , 4.5, 1.5],\n",
              "       [6. , 3.4, 4.5, 1.6],\n",
              "       [6.7, 3.1, 4.7, 1.5],\n",
              "       [6.3, 2.3, 4.4, 1.3],\n",
              "       [5.6, 3. , 4.1, 1.3],\n",
              "       [5.5, 2.5, 4. , 1.3],\n",
              "       [5.5, 2.6, 4.4, 1.2],\n",
              "       [6.1, 3. , 4.6, 1.4],\n",
              "       [5.8, 2.6, 4. , 1.2],\n",
              "       [5. , 2.3, 3.3, 1. ],\n",
              "       [5.6, 2.7, 4.2, 1.3],\n",
              "       [5.7, 3. , 4.2, 1.2],\n",
              "       [5.7, 2.9, 4.2, 1.3],\n",
              "       [6.2, 2.9, 4.3, 1.3],\n",
              "       [5.1, 2.5, 3. , 1.1],\n",
              "       [5.7, 2.8, 4.1, 1.3],\n",
              "       [6.3, 3.3, 6. , 2.5],\n",
              "       [5.8, 2.7, 5.1, 1.9],\n",
              "       [7.1, 3. , 5.9, 2.1],\n",
              "       [6.3, 2.9, 5.6, 1.8],\n",
              "       [6.5, 3. , 5.8, 2.2],\n",
              "       [7.6, 3. , 6.6, 2.1],\n",
              "       [4.9, 2.5, 4.5, 1.7],\n",
              "       [7.3, 2.9, 6.3, 1.8],\n",
              "       [6.7, 2.5, 5.8, 1.8],\n",
              "       [7.2, 3.6, 6.1, 2.5],\n",
              "       [6.5, 3.2, 5.1, 2. ],\n",
              "       [6.4, 2.7, 5.3, 1.9],\n",
              "       [6.8, 3. , 5.5, 2.1],\n",
              "       [5.7, 2.5, 5. , 2. ],\n",
              "       [5.8, 2.8, 5.1, 2.4],\n",
              "       [6.4, 3.2, 5.3, 2.3],\n",
              "       [6.5, 3. , 5.5, 1.8],\n",
              "       [7.7, 3.8, 6.7, 2.2],\n",
              "       [7.7, 2.6, 6.9, 2.3],\n",
              "       [6. , 2.2, 5. , 1.5],\n",
              "       [6.9, 3.2, 5.7, 2.3],\n",
              "       [5.6, 2.8, 4.9, 2. ],\n",
              "       [7.7, 2.8, 6.7, 2. ],\n",
              "       [6.3, 2.7, 4.9, 1.8],\n",
              "       [6.7, 3.3, 5.7, 2.1],\n",
              "       [7.2, 3.2, 6. , 1.8],\n",
              "       [6.2, 2.8, 4.8, 1.8],\n",
              "       [6.1, 3. , 4.9, 1.8],\n",
              "       [6.4, 2.8, 5.6, 2.1],\n",
              "       [7.2, 3. , 5.8, 1.6],\n",
              "       [7.4, 2.8, 6.1, 1.9],\n",
              "       [7.9, 3.8, 6.4, 2. ],\n",
              "       [6.4, 2.8, 5.6, 2.2],\n",
              "       [6.3, 2.8, 5.1, 1.5],\n",
              "       [6.1, 2.6, 5.6, 1.4],\n",
              "       [7.7, 3. , 6.1, 2.3],\n",
              "       [6.3, 3.4, 5.6, 2.4],\n",
              "       [6.4, 3.1, 5.5, 1.8],\n",
              "       [6. , 3. , 4.8, 1.8],\n",
              "       [6.9, 3.1, 5.4, 2.1],\n",
              "       [6.7, 3.1, 5.6, 2.4],\n",
              "       [6.9, 3.1, 5.1, 2.3],\n",
              "       [5.8, 2.7, 5.1, 1.9],\n",
              "       [6.8, 3.2, 5.9, 2.3],\n",
              "       [6.7, 3.3, 5.7, 2.5],\n",
              "       [6.7, 3. , 5.2, 2.3],\n",
              "       [6.3, 2.5, 5. , 1.9],\n",
              "       [6.5, 3. , 5.2, 2. ],\n",
              "       [6.2, 3.4, 5.4, 2.3],\n",
              "       [5.9, 3. , 5.1, 1.8]])"
            ]
          },
          "metadata": {},
          "execution_count": 4
        }
      ]
    },
    {
      "cell_type": "code",
      "source": [
        "y"
      ],
      "metadata": {
        "colab": {
          "base_uri": "https://localhost:8080/"
        },
        "id": "3_qBL44fJm0F",
        "outputId": "909f9988-6364-440a-9074-224fb665354d"
      },
      "execution_count": null,
      "outputs": [
        {
          "output_type": "execute_result",
          "data": {
            "text/plain": [
              "array([0, 0, 0, 0, 0, 0, 0, 0, 0, 0, 0, 0, 0, 0, 0, 0, 0, 0, 0, 0, 0, 0,\n",
              "       0, 0, 0, 0, 0, 0, 0, 0, 0, 0, 0, 0, 0, 0, 0, 0, 0, 0, 0, 0, 0, 0,\n",
              "       0, 0, 0, 0, 0, 0, 1, 1, 1, 1, 1, 1, 1, 1, 1, 1, 1, 1, 1, 1, 1, 1,\n",
              "       1, 1, 1, 1, 1, 1, 1, 1, 1, 1, 1, 1, 1, 1, 1, 1, 1, 1, 1, 1, 1, 1,\n",
              "       1, 1, 1, 1, 1, 1, 1, 1, 1, 1, 1, 1, 2, 2, 2, 2, 2, 2, 2, 2, 2, 2,\n",
              "       2, 2, 2, 2, 2, 2, 2, 2, 2, 2, 2, 2, 2, 2, 2, 2, 2, 2, 2, 2, 2, 2,\n",
              "       2, 2, 2, 2, 2, 2, 2, 2, 2, 2, 2, 2, 2, 2, 2, 2, 2, 2])"
            ]
          },
          "metadata": {},
          "execution_count": 5
        }
      ]
    },
    {
      "cell_type": "markdown",
      "source": [
        "This is... not particularly useful. Let's try finding out how large the datasets are. To do this we wil use the `.shape` attribute of `NumPy` arrays."
      ],
      "metadata": {
        "id": "8HgEwNHiJrvp"
      }
    },
    {
      "cell_type": "code",
      "source": [
        "print(X.shape)\n",
        "print(y.shape)"
      ],
      "metadata": {
        "colab": {
          "base_uri": "https://localhost:8080/"
        },
        "id": "-4m6_SwuJ3Bt",
        "outputId": "c4fe4c13-e105-4ba8-d263-caaab7e6b26f"
      },
      "execution_count": null,
      "outputs": [
        {
          "output_type": "stream",
          "name": "stdout",
          "text": [
            "(150, 4)\n",
            "(150,)\n"
          ]
        }
      ]
    },
    {
      "cell_type": "markdown",
      "source": [
        "So there are 150 observations in our data and $X$ has 4 *features* per observation. It would be good to know what measure each feature (column) of $X$ maps to. We can do this with a simple call."
      ],
      "metadata": {
        "id": "HiIO1cXDKLIq"
      }
    },
    {
      "cell_type": "code",
      "source": [
        "iris['feature_names']"
      ],
      "metadata": {
        "colab": {
          "base_uri": "https://localhost:8080/"
        },
        "id": "s5vr4TR2KWKZ",
        "outputId": "bfe698c1-427a-4a21-fefb-f4a47a2096b9"
      },
      "execution_count": null,
      "outputs": [
        {
          "output_type": "execute_result",
          "data": {
            "text/plain": [
              "['sepal length (cm)',\n",
              " 'sepal width (cm)',\n",
              " 'petal length (cm)',\n",
              " 'petal width (cm)']"
            ]
          },
          "metadata": {},
          "execution_count": 7
        }
      ]
    },
    {
      "cell_type": "markdown",
      "source": [
        "It's clear from the code above that $y$ has three categories, encoded as numbers 0, 1, and 2. Finding out which species of iris these correspond to is doable with another line."
      ],
      "metadata": {
        "id": "kZVaXkGZKud7"
      }
    },
    {
      "cell_type": "code",
      "source": [
        "iris['target_names']"
      ],
      "metadata": {
        "colab": {
          "base_uri": "https://localhost:8080/"
        },
        "id": "ve-3Vk02LGFw",
        "outputId": "5af2fb54-9855-42d1-8974-71d6fc984ed2"
      },
      "execution_count": null,
      "outputs": [
        {
          "output_type": "execute_result",
          "data": {
            "text/plain": [
              "array(['setosa', 'versicolor', 'virginica'], dtype='<U10')"
            ]
          },
          "metadata": {},
          "execution_count": 8
        }
      ]
    },
    {
      "cell_type": "markdown",
      "source": [
        "It's worth  pulling together a count of how many observations we have for each category."
      ],
      "metadata": {
        "id": "fYELk7lKhjpc"
      }
    },
    {
      "cell_type": "code",
      "source": [
        "label_to_species = {i: iris[\"target_names\"][i] for i in range(len(iris[\"target_names\"]))}\n",
        "renamed_targets = [label_to_species[j] for j in y]\n",
        "pd.Series(renamed_targets).value_counts()"
      ],
      "metadata": {
        "colab": {
          "base_uri": "https://localhost:8080/",
          "height": 178
        },
        "id": "RzWDTDKRLd86",
        "outputId": "452a1f01-2927-4f09-c608-ab5a1c3cb86c"
      },
      "execution_count": null,
      "outputs": [
        {
          "output_type": "execute_result",
          "data": {
            "text/plain": [
              "setosa        50\n",
              "versicolor    50\n",
              "virginica     50\n",
              "Name: count, dtype: int64"
            ],
            "text/html": [
              "<div>\n",
              "<style scoped>\n",
              "    .dataframe tbody tr th:only-of-type {\n",
              "        vertical-align: middle;\n",
              "    }\n",
              "\n",
              "    .dataframe tbody tr th {\n",
              "        vertical-align: top;\n",
              "    }\n",
              "\n",
              "    .dataframe thead th {\n",
              "        text-align: right;\n",
              "    }\n",
              "</style>\n",
              "<table border=\"1\" class=\"dataframe\">\n",
              "  <thead>\n",
              "    <tr style=\"text-align: right;\">\n",
              "      <th></th>\n",
              "      <th>count</th>\n",
              "    </tr>\n",
              "  </thead>\n",
              "  <tbody>\n",
              "    <tr>\n",
              "      <th>setosa</th>\n",
              "      <td>50</td>\n",
              "    </tr>\n",
              "    <tr>\n",
              "      <th>versicolor</th>\n",
              "      <td>50</td>\n",
              "    </tr>\n",
              "    <tr>\n",
              "      <th>virginica</th>\n",
              "      <td>50</td>\n",
              "    </tr>\n",
              "  </tbody>\n",
              "</table>\n",
              "</div><br><label><b>dtype:</b> int64</label>"
            ]
          },
          "metadata": {},
          "execution_count": 9
        }
      ]
    },
    {
      "cell_type": "markdown",
      "source": [
        "As a last step we want to look at features. To do this we make a pandas dataframe (which you can think of as a spreadsheet with some extra bells and whistles) and analze their properties."
      ],
      "metadata": {
        "id": "aliaRuOciVbn"
      }
    },
    {
      "cell_type": "code",
      "source": [
        "data = pd.DataFrame(data=X, columns=iris['feature_names'])\n",
        "print(\"Mean Value of Each Feature\")\n",
        "print(data.mean(axis=0))\n",
        "print(\"\\nStandard Deviation of Each Feature\")\n",
        "print(data.std(axis=0))\n",
        "print(\"\\nCorrelation Between Features\")\n",
        "print(data.corr())"
      ],
      "metadata": {
        "colab": {
          "base_uri": "https://localhost:8080/"
        },
        "id": "mDn5qYPQi5rf",
        "outputId": "4f2ab368-3f5a-4a82-e014-af910d56c5cc"
      },
      "execution_count": null,
      "outputs": [
        {
          "output_type": "stream",
          "name": "stdout",
          "text": [
            "Mean Value of Each Feature\n",
            "sepal length (cm)    5.843333\n",
            "sepal width (cm)     3.057333\n",
            "petal length (cm)    3.758000\n",
            "petal width (cm)     1.199333\n",
            "dtype: float64\n",
            "\n",
            "Standard Deviation of Each Feature\n",
            "sepal length (cm)    0.828066\n",
            "sepal width (cm)     0.435866\n",
            "petal length (cm)    1.765298\n",
            "petal width (cm)     0.762238\n",
            "dtype: float64\n",
            "\n",
            "Correlation Between Features\n",
            "                   sepal length (cm)  sepal width (cm)  petal length (cm)  \\\n",
            "sepal length (cm)           1.000000         -0.117570           0.871754   \n",
            "sepal width (cm)           -0.117570          1.000000          -0.428440   \n",
            "petal length (cm)           0.871754         -0.428440           1.000000   \n",
            "petal width (cm)            0.817941         -0.366126           0.962865   \n",
            "\n",
            "                   petal width (cm)  \n",
            "sepal length (cm)          0.817941  \n",
            "sepal width (cm)          -0.366126  \n",
            "petal length (cm)          0.962865  \n",
            "petal width (cm)           1.000000  \n"
          ]
        }
      ]
    },
    {
      "cell_type": "markdown",
      "source": [
        "---"
      ],
      "metadata": {
        "id": "U94Ci3f4ex2e"
      }
    },
    {
      "cell_type": "markdown",
      "source": [
        "## 🔵 **3: Splitting Data into Train & Test Sets**\n",
        "As mentioned above supervised learning is designed to predict the response (species) on *new* data. However, we only have the one dataset! In order to evaluate an algorithm on this dataset we randomly divide it into two subsets: a **training** set and a **testing** set. This partition of $X$ is called a *train-test-split*. Usually the training set is much larger than the test set. We set it to be 80% of the data in this example.\n",
        "\n",
        "`scikit-learn` has built in functionality to perform train-test splits. In order to keep things reproducible we set a random seed so that the train-test split is consistent."
      ],
      "metadata": {
        "id": "NugZpgBSeyp2"
      }
    },
    {
      "cell_type": "code",
      "source": [
        "from sklearn.model_selection import train_test_split\n",
        "\n",
        "#set the seed\n",
        "seed = 123456\n",
        "train_percentage = 0.8\n",
        "X_train, X_test, y_train, y_test = train_test_split(X,y,train_size = train_percentage, random_state=seed)\n",
        "print(f\"The training data has {X_train.shape[0]} observations\")\n",
        "print(f\"The training data has {X_test.shape[0]} observations\")"
      ],
      "metadata": {
        "id": "5i5jBZ6vey7j",
        "colab": {
          "base_uri": "https://localhost:8080/"
        },
        "outputId": "065da6a9-d679-49e0-9d2e-7754533bcf3f"
      },
      "execution_count": null,
      "outputs": [
        {
          "output_type": "stream",
          "name": "stdout",
          "text": [
            "The training data has 120 observations\n",
            "The training data has 30 observations\n"
          ]
        }
      ]
    },
    {
      "cell_type": "markdown",
      "source": [
        "We should probably also check how many of each species are in the training and testing sets..."
      ],
      "metadata": {
        "id": "5pCfQzMSBw_z"
      }
    },
    {
      "cell_type": "code",
      "source": [
        "training_names = [label_to_species[j] for j in y_train]\n",
        "testing_names = [label_to_species[j] for j in y_test]\n",
        "\n",
        "print(f\"The counts of species in the training dataset is:\\n-----------\\n{pd.Series(training_names).value_counts()}\\n\")\n",
        "print(f\"The counts of species in the testing dataset is:\\n-----------\\n{pd.Series(testing_names).value_counts()}\")"
      ],
      "metadata": {
        "colab": {
          "base_uri": "https://localhost:8080/"
        },
        "id": "nSFL60ZACPPk",
        "outputId": "3fc6d26c-281e-4780-bffd-ad4cc2eb53f8"
      },
      "execution_count": null,
      "outputs": [
        {
          "output_type": "stream",
          "name": "stdout",
          "text": [
            "The counts of species in the training dataset is:\n",
            "-----------\n",
            "setosa        42\n",
            "versicolor    41\n",
            "virginica     37\n",
            "Name: count, dtype: int64\n",
            "\n",
            "The counts of species in the testing dataset is:\n",
            "-----------\n",
            "virginica     13\n",
            "versicolor     9\n",
            "setosa         8\n",
            "Name: count, dtype: int64\n"
          ]
        }
      ]
    },
    {
      "cell_type": "markdown",
      "source": [
        "We started with an an exactly equal number of each species in the dataset but we have changed this (slightly) by splitting it. This is something to note as we train our model."
      ],
      "metadata": {
        "id": "580wzukUC_F-"
      }
    },
    {
      "cell_type": "markdown",
      "source": [
        "## 🔵 **4: Training a Machine Learning Model**\n",
        "Now that we've split our data it's time to train our model. We'll use a simple linear model called **logistic regression** (see the [documentation](https://scikit-learn.org/stable/modules/generated/sklearn.linear_model.LogisticRegression.html) for details).\n",
        "\n",
        "\n",
        "As the names suggest we will use our training data to fit (train) the model and then pass the testing data through it for evaluation."
      ],
      "metadata": {
        "id": "LqBh8NP1ez6G"
      }
    },
    {
      "cell_type": "code",
      "source": [
        "from sklearn.linear_model import LogisticRegression\n",
        "classifier = LogisticRegression()\n",
        "classifier.fit(X_train,y_train)\n",
        "predictions = classifier.predict(X_test)\n",
        "predictions"
      ],
      "metadata": {
        "id": "KoM__Co6e0AW",
        "colab": {
          "base_uri": "https://localhost:8080/"
        },
        "outputId": "6b4c93a1-52c1-4a87-b6c5-dad7296fcf26"
      },
      "execution_count": null,
      "outputs": [
        {
          "output_type": "execute_result",
          "data": {
            "text/plain": [
              "array([0, 2, 0, 1, 0, 0, 2, 2, 2, 0, 1, 2, 2, 0, 0, 2, 1, 2, 1, 0, 1, 2,\n",
              "       1, 1, 1, 2, 2, 2, 2, 1])"
            ]
          },
          "metadata": {},
          "execution_count": 14
        }
      ]
    },
    {
      "cell_type": "markdown",
      "source": [
        "It is good (and common) practice to *standardize* the data by make it so each feature has mean zero and unit variance. We can use the `StandardScalar` functionality `scikit-learn` has."
      ],
      "metadata": {
        "id": "v7ZAaBOgFTgE"
      }
    },
    {
      "cell_type": "code",
      "source": [
        "from sklearn.preprocessing import StandardScaler\n",
        "standardizer = StandardScaler()\n",
        "# note that the scaler does NOT care about the targets.\n",
        "standardizer.fit(X_train)\n"
      ],
      "metadata": {
        "colab": {
          "base_uri": "https://localhost:8080/",
          "height": 80
        },
        "id": "krc50QxPGLhN",
        "outputId": "85b1aebe-8e71-43df-c23f-b62864d9bc67"
      },
      "execution_count": null,
      "outputs": [
        {
          "output_type": "execute_result",
          "data": {
            "text/plain": [
              "StandardScaler()"
            ],
            "text/html": [
              "<style>#sk-container-id-1 {\n",
              "  /* Definition of color scheme common for light and dark mode */\n",
              "  --sklearn-color-text: #000;\n",
              "  --sklearn-color-text-muted: #666;\n",
              "  --sklearn-color-line: gray;\n",
              "  /* Definition of color scheme for unfitted estimators */\n",
              "  --sklearn-color-unfitted-level-0: #fff5e6;\n",
              "  --sklearn-color-unfitted-level-1: #f6e4d2;\n",
              "  --sklearn-color-unfitted-level-2: #ffe0b3;\n",
              "  --sklearn-color-unfitted-level-3: chocolate;\n",
              "  /* Definition of color scheme for fitted estimators */\n",
              "  --sklearn-color-fitted-level-0: #f0f8ff;\n",
              "  --sklearn-color-fitted-level-1: #d4ebff;\n",
              "  --sklearn-color-fitted-level-2: #b3dbfd;\n",
              "  --sklearn-color-fitted-level-3: cornflowerblue;\n",
              "\n",
              "  /* Specific color for light theme */\n",
              "  --sklearn-color-text-on-default-background: var(--sg-text-color, var(--theme-code-foreground, var(--jp-content-font-color1, black)));\n",
              "  --sklearn-color-background: var(--sg-background-color, var(--theme-background, var(--jp-layout-color0, white)));\n",
              "  --sklearn-color-border-box: var(--sg-text-color, var(--theme-code-foreground, var(--jp-content-font-color1, black)));\n",
              "  --sklearn-color-icon: #696969;\n",
              "\n",
              "  @media (prefers-color-scheme: dark) {\n",
              "    /* Redefinition of color scheme for dark theme */\n",
              "    --sklearn-color-text-on-default-background: var(--sg-text-color, var(--theme-code-foreground, var(--jp-content-font-color1, white)));\n",
              "    --sklearn-color-background: var(--sg-background-color, var(--theme-background, var(--jp-layout-color0, #111)));\n",
              "    --sklearn-color-border-box: var(--sg-text-color, var(--theme-code-foreground, var(--jp-content-font-color1, white)));\n",
              "    --sklearn-color-icon: #878787;\n",
              "  }\n",
              "}\n",
              "\n",
              "#sk-container-id-1 {\n",
              "  color: var(--sklearn-color-text);\n",
              "}\n",
              "\n",
              "#sk-container-id-1 pre {\n",
              "  padding: 0;\n",
              "}\n",
              "\n",
              "#sk-container-id-1 input.sk-hidden--visually {\n",
              "  border: 0;\n",
              "  clip: rect(1px 1px 1px 1px);\n",
              "  clip: rect(1px, 1px, 1px, 1px);\n",
              "  height: 1px;\n",
              "  margin: -1px;\n",
              "  overflow: hidden;\n",
              "  padding: 0;\n",
              "  position: absolute;\n",
              "  width: 1px;\n",
              "}\n",
              "\n",
              "#sk-container-id-1 div.sk-dashed-wrapped {\n",
              "  border: 1px dashed var(--sklearn-color-line);\n",
              "  margin: 0 0.4em 0.5em 0.4em;\n",
              "  box-sizing: border-box;\n",
              "  padding-bottom: 0.4em;\n",
              "  background-color: var(--sklearn-color-background);\n",
              "}\n",
              "\n",
              "#sk-container-id-1 div.sk-container {\n",
              "  /* jupyter's `normalize.less` sets `[hidden] { display: none; }`\n",
              "     but bootstrap.min.css set `[hidden] { display: none !important; }`\n",
              "     so we also need the `!important` here to be able to override the\n",
              "     default hidden behavior on the sphinx rendered scikit-learn.org.\n",
              "     See: https://github.com/scikit-learn/scikit-learn/issues/21755 */\n",
              "  display: inline-block !important;\n",
              "  position: relative;\n",
              "}\n",
              "\n",
              "#sk-container-id-1 div.sk-text-repr-fallback {\n",
              "  display: none;\n",
              "}\n",
              "\n",
              "div.sk-parallel-item,\n",
              "div.sk-serial,\n",
              "div.sk-item {\n",
              "  /* draw centered vertical line to link estimators */\n",
              "  background-image: linear-gradient(var(--sklearn-color-text-on-default-background), var(--sklearn-color-text-on-default-background));\n",
              "  background-size: 2px 100%;\n",
              "  background-repeat: no-repeat;\n",
              "  background-position: center center;\n",
              "}\n",
              "\n",
              "/* Parallel-specific style estimator block */\n",
              "\n",
              "#sk-container-id-1 div.sk-parallel-item::after {\n",
              "  content: \"\";\n",
              "  width: 100%;\n",
              "  border-bottom: 2px solid var(--sklearn-color-text-on-default-background);\n",
              "  flex-grow: 1;\n",
              "}\n",
              "\n",
              "#sk-container-id-1 div.sk-parallel {\n",
              "  display: flex;\n",
              "  align-items: stretch;\n",
              "  justify-content: center;\n",
              "  background-color: var(--sklearn-color-background);\n",
              "  position: relative;\n",
              "}\n",
              "\n",
              "#sk-container-id-1 div.sk-parallel-item {\n",
              "  display: flex;\n",
              "  flex-direction: column;\n",
              "}\n",
              "\n",
              "#sk-container-id-1 div.sk-parallel-item:first-child::after {\n",
              "  align-self: flex-end;\n",
              "  width: 50%;\n",
              "}\n",
              "\n",
              "#sk-container-id-1 div.sk-parallel-item:last-child::after {\n",
              "  align-self: flex-start;\n",
              "  width: 50%;\n",
              "}\n",
              "\n",
              "#sk-container-id-1 div.sk-parallel-item:only-child::after {\n",
              "  width: 0;\n",
              "}\n",
              "\n",
              "/* Serial-specific style estimator block */\n",
              "\n",
              "#sk-container-id-1 div.sk-serial {\n",
              "  display: flex;\n",
              "  flex-direction: column;\n",
              "  align-items: center;\n",
              "  background-color: var(--sklearn-color-background);\n",
              "  padding-right: 1em;\n",
              "  padding-left: 1em;\n",
              "}\n",
              "\n",
              "\n",
              "/* Toggleable style: style used for estimator/Pipeline/ColumnTransformer box that is\n",
              "clickable and can be expanded/collapsed.\n",
              "- Pipeline and ColumnTransformer use this feature and define the default style\n",
              "- Estimators will overwrite some part of the style using the `sk-estimator` class\n",
              "*/\n",
              "\n",
              "/* Pipeline and ColumnTransformer style (default) */\n",
              "\n",
              "#sk-container-id-1 div.sk-toggleable {\n",
              "  /* Default theme specific background. It is overwritten whether we have a\n",
              "  specific estimator or a Pipeline/ColumnTransformer */\n",
              "  background-color: var(--sklearn-color-background);\n",
              "}\n",
              "\n",
              "/* Toggleable label */\n",
              "#sk-container-id-1 label.sk-toggleable__label {\n",
              "  cursor: pointer;\n",
              "  display: flex;\n",
              "  width: 100%;\n",
              "  margin-bottom: 0;\n",
              "  padding: 0.5em;\n",
              "  box-sizing: border-box;\n",
              "  text-align: center;\n",
              "  align-items: start;\n",
              "  justify-content: space-between;\n",
              "  gap: 0.5em;\n",
              "}\n",
              "\n",
              "#sk-container-id-1 label.sk-toggleable__label .caption {\n",
              "  font-size: 0.6rem;\n",
              "  font-weight: lighter;\n",
              "  color: var(--sklearn-color-text-muted);\n",
              "}\n",
              "\n",
              "#sk-container-id-1 label.sk-toggleable__label-arrow:before {\n",
              "  /* Arrow on the left of the label */\n",
              "  content: \"▸\";\n",
              "  float: left;\n",
              "  margin-right: 0.25em;\n",
              "  color: var(--sklearn-color-icon);\n",
              "}\n",
              "\n",
              "#sk-container-id-1 label.sk-toggleable__label-arrow:hover:before {\n",
              "  color: var(--sklearn-color-text);\n",
              "}\n",
              "\n",
              "/* Toggleable content - dropdown */\n",
              "\n",
              "#sk-container-id-1 div.sk-toggleable__content {\n",
              "  max-height: 0;\n",
              "  max-width: 0;\n",
              "  overflow: hidden;\n",
              "  text-align: left;\n",
              "  /* unfitted */\n",
              "  background-color: var(--sklearn-color-unfitted-level-0);\n",
              "}\n",
              "\n",
              "#sk-container-id-1 div.sk-toggleable__content.fitted {\n",
              "  /* fitted */\n",
              "  background-color: var(--sklearn-color-fitted-level-0);\n",
              "}\n",
              "\n",
              "#sk-container-id-1 div.sk-toggleable__content pre {\n",
              "  margin: 0.2em;\n",
              "  border-radius: 0.25em;\n",
              "  color: var(--sklearn-color-text);\n",
              "  /* unfitted */\n",
              "  background-color: var(--sklearn-color-unfitted-level-0);\n",
              "}\n",
              "\n",
              "#sk-container-id-1 div.sk-toggleable__content.fitted pre {\n",
              "  /* unfitted */\n",
              "  background-color: var(--sklearn-color-fitted-level-0);\n",
              "}\n",
              "\n",
              "#sk-container-id-1 input.sk-toggleable__control:checked~div.sk-toggleable__content {\n",
              "  /* Expand drop-down */\n",
              "  max-height: 200px;\n",
              "  max-width: 100%;\n",
              "  overflow: auto;\n",
              "}\n",
              "\n",
              "#sk-container-id-1 input.sk-toggleable__control:checked~label.sk-toggleable__label-arrow:before {\n",
              "  content: \"▾\";\n",
              "}\n",
              "\n",
              "/* Pipeline/ColumnTransformer-specific style */\n",
              "\n",
              "#sk-container-id-1 div.sk-label input.sk-toggleable__control:checked~label.sk-toggleable__label {\n",
              "  color: var(--sklearn-color-text);\n",
              "  background-color: var(--sklearn-color-unfitted-level-2);\n",
              "}\n",
              "\n",
              "#sk-container-id-1 div.sk-label.fitted input.sk-toggleable__control:checked~label.sk-toggleable__label {\n",
              "  background-color: var(--sklearn-color-fitted-level-2);\n",
              "}\n",
              "\n",
              "/* Estimator-specific style */\n",
              "\n",
              "/* Colorize estimator box */\n",
              "#sk-container-id-1 div.sk-estimator input.sk-toggleable__control:checked~label.sk-toggleable__label {\n",
              "  /* unfitted */\n",
              "  background-color: var(--sklearn-color-unfitted-level-2);\n",
              "}\n",
              "\n",
              "#sk-container-id-1 div.sk-estimator.fitted input.sk-toggleable__control:checked~label.sk-toggleable__label {\n",
              "  /* fitted */\n",
              "  background-color: var(--sklearn-color-fitted-level-2);\n",
              "}\n",
              "\n",
              "#sk-container-id-1 div.sk-label label.sk-toggleable__label,\n",
              "#sk-container-id-1 div.sk-label label {\n",
              "  /* The background is the default theme color */\n",
              "  color: var(--sklearn-color-text-on-default-background);\n",
              "}\n",
              "\n",
              "/* On hover, darken the color of the background */\n",
              "#sk-container-id-1 div.sk-label:hover label.sk-toggleable__label {\n",
              "  color: var(--sklearn-color-text);\n",
              "  background-color: var(--sklearn-color-unfitted-level-2);\n",
              "}\n",
              "\n",
              "/* Label box, darken color on hover, fitted */\n",
              "#sk-container-id-1 div.sk-label.fitted:hover label.sk-toggleable__label.fitted {\n",
              "  color: var(--sklearn-color-text);\n",
              "  background-color: var(--sklearn-color-fitted-level-2);\n",
              "}\n",
              "\n",
              "/* Estimator label */\n",
              "\n",
              "#sk-container-id-1 div.sk-label label {\n",
              "  font-family: monospace;\n",
              "  font-weight: bold;\n",
              "  display: inline-block;\n",
              "  line-height: 1.2em;\n",
              "}\n",
              "\n",
              "#sk-container-id-1 div.sk-label-container {\n",
              "  text-align: center;\n",
              "}\n",
              "\n",
              "/* Estimator-specific */\n",
              "#sk-container-id-1 div.sk-estimator {\n",
              "  font-family: monospace;\n",
              "  border: 1px dotted var(--sklearn-color-border-box);\n",
              "  border-radius: 0.25em;\n",
              "  box-sizing: border-box;\n",
              "  margin-bottom: 0.5em;\n",
              "  /* unfitted */\n",
              "  background-color: var(--sklearn-color-unfitted-level-0);\n",
              "}\n",
              "\n",
              "#sk-container-id-1 div.sk-estimator.fitted {\n",
              "  /* fitted */\n",
              "  background-color: var(--sklearn-color-fitted-level-0);\n",
              "}\n",
              "\n",
              "/* on hover */\n",
              "#sk-container-id-1 div.sk-estimator:hover {\n",
              "  /* unfitted */\n",
              "  background-color: var(--sklearn-color-unfitted-level-2);\n",
              "}\n",
              "\n",
              "#sk-container-id-1 div.sk-estimator.fitted:hover {\n",
              "  /* fitted */\n",
              "  background-color: var(--sklearn-color-fitted-level-2);\n",
              "}\n",
              "\n",
              "/* Specification for estimator info (e.g. \"i\" and \"?\") */\n",
              "\n",
              "/* Common style for \"i\" and \"?\" */\n",
              "\n",
              ".sk-estimator-doc-link,\n",
              "a:link.sk-estimator-doc-link,\n",
              "a:visited.sk-estimator-doc-link {\n",
              "  float: right;\n",
              "  font-size: smaller;\n",
              "  line-height: 1em;\n",
              "  font-family: monospace;\n",
              "  background-color: var(--sklearn-color-background);\n",
              "  border-radius: 1em;\n",
              "  height: 1em;\n",
              "  width: 1em;\n",
              "  text-decoration: none !important;\n",
              "  margin-left: 0.5em;\n",
              "  text-align: center;\n",
              "  /* unfitted */\n",
              "  border: var(--sklearn-color-unfitted-level-1) 1pt solid;\n",
              "  color: var(--sklearn-color-unfitted-level-1);\n",
              "}\n",
              "\n",
              ".sk-estimator-doc-link.fitted,\n",
              "a:link.sk-estimator-doc-link.fitted,\n",
              "a:visited.sk-estimator-doc-link.fitted {\n",
              "  /* fitted */\n",
              "  border: var(--sklearn-color-fitted-level-1) 1pt solid;\n",
              "  color: var(--sklearn-color-fitted-level-1);\n",
              "}\n",
              "\n",
              "/* On hover */\n",
              "div.sk-estimator:hover .sk-estimator-doc-link:hover,\n",
              ".sk-estimator-doc-link:hover,\n",
              "div.sk-label-container:hover .sk-estimator-doc-link:hover,\n",
              ".sk-estimator-doc-link:hover {\n",
              "  /* unfitted */\n",
              "  background-color: var(--sklearn-color-unfitted-level-3);\n",
              "  color: var(--sklearn-color-background);\n",
              "  text-decoration: none;\n",
              "}\n",
              "\n",
              "div.sk-estimator.fitted:hover .sk-estimator-doc-link.fitted:hover,\n",
              ".sk-estimator-doc-link.fitted:hover,\n",
              "div.sk-label-container:hover .sk-estimator-doc-link.fitted:hover,\n",
              ".sk-estimator-doc-link.fitted:hover {\n",
              "  /* fitted */\n",
              "  background-color: var(--sklearn-color-fitted-level-3);\n",
              "  color: var(--sklearn-color-background);\n",
              "  text-decoration: none;\n",
              "}\n",
              "\n",
              "/* Span, style for the box shown on hovering the info icon */\n",
              ".sk-estimator-doc-link span {\n",
              "  display: none;\n",
              "  z-index: 9999;\n",
              "  position: relative;\n",
              "  font-weight: normal;\n",
              "  right: .2ex;\n",
              "  padding: .5ex;\n",
              "  margin: .5ex;\n",
              "  width: min-content;\n",
              "  min-width: 20ex;\n",
              "  max-width: 50ex;\n",
              "  color: var(--sklearn-color-text);\n",
              "  box-shadow: 2pt 2pt 4pt #999;\n",
              "  /* unfitted */\n",
              "  background: var(--sklearn-color-unfitted-level-0);\n",
              "  border: .5pt solid var(--sklearn-color-unfitted-level-3);\n",
              "}\n",
              "\n",
              ".sk-estimator-doc-link.fitted span {\n",
              "  /* fitted */\n",
              "  background: var(--sklearn-color-fitted-level-0);\n",
              "  border: var(--sklearn-color-fitted-level-3);\n",
              "}\n",
              "\n",
              ".sk-estimator-doc-link:hover span {\n",
              "  display: block;\n",
              "}\n",
              "\n",
              "/* \"?\"-specific style due to the `<a>` HTML tag */\n",
              "\n",
              "#sk-container-id-1 a.estimator_doc_link {\n",
              "  float: right;\n",
              "  font-size: 1rem;\n",
              "  line-height: 1em;\n",
              "  font-family: monospace;\n",
              "  background-color: var(--sklearn-color-background);\n",
              "  border-radius: 1rem;\n",
              "  height: 1rem;\n",
              "  width: 1rem;\n",
              "  text-decoration: none;\n",
              "  /* unfitted */\n",
              "  color: var(--sklearn-color-unfitted-level-1);\n",
              "  border: var(--sklearn-color-unfitted-level-1) 1pt solid;\n",
              "}\n",
              "\n",
              "#sk-container-id-1 a.estimator_doc_link.fitted {\n",
              "  /* fitted */\n",
              "  border: var(--sklearn-color-fitted-level-1) 1pt solid;\n",
              "  color: var(--sklearn-color-fitted-level-1);\n",
              "}\n",
              "\n",
              "/* On hover */\n",
              "#sk-container-id-1 a.estimator_doc_link:hover {\n",
              "  /* unfitted */\n",
              "  background-color: var(--sklearn-color-unfitted-level-3);\n",
              "  color: var(--sklearn-color-background);\n",
              "  text-decoration: none;\n",
              "}\n",
              "\n",
              "#sk-container-id-1 a.estimator_doc_link.fitted:hover {\n",
              "  /* fitted */\n",
              "  background-color: var(--sklearn-color-fitted-level-3);\n",
              "}\n",
              "</style><div id=\"sk-container-id-1\" class=\"sk-top-container\"><div class=\"sk-text-repr-fallback\"><pre>StandardScaler()</pre><b>In a Jupyter environment, please rerun this cell to show the HTML representation or trust the notebook. <br />On GitHub, the HTML representation is unable to render, please try loading this page with nbviewer.org.</b></div><div class=\"sk-container\" hidden><div class=\"sk-item\"><div class=\"sk-estimator fitted sk-toggleable\"><input class=\"sk-toggleable__control sk-hidden--visually\" id=\"sk-estimator-id-1\" type=\"checkbox\" checked><label for=\"sk-estimator-id-1\" class=\"sk-toggleable__label fitted sk-toggleable__label-arrow\"><div><div>StandardScaler</div></div><div><a class=\"sk-estimator-doc-link fitted\" rel=\"noreferrer\" target=\"_blank\" href=\"https://scikit-learn.org/1.6/modules/generated/sklearn.preprocessing.StandardScaler.html\">?<span>Documentation for StandardScaler</span></a><span class=\"sk-estimator-doc-link fitted\">i<span>Fitted</span></span></div></label><div class=\"sk-toggleable__content fitted\"><pre>StandardScaler()</pre></div> </div></div></div></div>"
            ]
          },
          "metadata": {},
          "execution_count": 15
        }
      ]
    },
    {
      "cell_type": "markdown",
      "source": [
        "Does standardizing help? Do we do better if we preserve the class distribution when we split the train and test data? In order to answer these questions we need a way to evaluate model performance."
      ],
      "metadata": {
        "id": "ziF_ntcAHChL"
      }
    },
    {
      "cell_type": "markdown",
      "source": [
        "## 🔵 **5: Evaluating Model Performance**\n",
        "- Using **accuracy, precision, recall, and F1-score** for classification.\n",
        "- Using **Mean Squared Error (MSE) and R² score** for regression.\n",
        "- Displaying results using `classification_report()` and `confusion_matrix()`."
      ],
      "metadata": {
        "id": "s8R-ZqcSe0ZI"
      }
    },
    {
      "cell_type": "code",
      "source": [
        "from sklearn.metrics import classification_report, accuracy_score\n",
        "# print(classification_report(y_test, predictions))\n",
        "print(f\"Accuracy is {100*accuracy_score(y_test,predictions)}%\")"
      ],
      "metadata": {
        "id": "v8OyuoSSe0gH",
        "colab": {
          "base_uri": "https://localhost:8080/"
        },
        "outputId": "d1789ca6-d282-4540-f1e9-969e016cb9ae"
      },
      "execution_count": null,
      "outputs": [
        {
          "output_type": "stream",
          "name": "stdout",
          "text": [
            "Accuracy is 100.0%\n"
          ]
        }
      ]
    },
    {
      "cell_type": "markdown",
      "source": [
        "How nice! We got 100% accuracy. This, however, doesn't tell us very much. Let's try this again but with a smaller percentage of the data used for training. We check across a range of values."
      ],
      "metadata": {
        "id": "h_-qkugxIBrS"
      }
    },
    {
      "cell_type": "code",
      "source": [
        "train_percentages = np.round((10**-1)*np.arange(3,10,0.5),2)\n",
        "# increase the total number of iterations used to fit the model\n",
        "classifier = LogisticRegression(max_iter=1000)\n",
        "for tpct in train_percentages:\n",
        "  X_train, X_test, y_train, y_test = train_test_split(X,y,train_size = tpct, random_state=seed)\n",
        "  classifier.fit(X_train,y_train)\n",
        "  predictions = classifier.predict(X_test)\n",
        "  print(f\"Train Percentage: {np.round(100*tpct,2)} % ---- Accuracy:{np.round(100*accuracy_score(y_test,predictions),2)}%\")\n"
      ],
      "metadata": {
        "colab": {
          "base_uri": "https://localhost:8080/"
        },
        "id": "KcDbsfakJd4H",
        "outputId": "4e818d32-b5ad-457f-fb40-1e3b1b1e114d"
      },
      "execution_count": null,
      "outputs": [
        {
          "output_type": "stream",
          "name": "stdout",
          "text": [
            "Train Percentage: 30.0 % ---- Accuracy:96.19%\n",
            "Train Percentage: 35.0 % ---- Accuracy:97.96%\n",
            "Train Percentage: 40.0 % ---- Accuracy:97.78%\n",
            "Train Percentage: 45.0 % ---- Accuracy:97.59%\n",
            "Train Percentage: 50.0 % ---- Accuracy:97.33%\n",
            "Train Percentage: 55.0 % ---- Accuracy:97.06%\n",
            "Train Percentage: 60.0 % ---- Accuracy:98.33%\n",
            "Train Percentage: 65.0 % ---- Accuracy:98.11%\n",
            "Train Percentage: 70.0 % ---- Accuracy:97.78%\n",
            "Train Percentage: 75.0 % ---- Accuracy:100.0%\n",
            "Train Percentage: 80.0 % ---- Accuracy:100.0%\n",
            "Train Percentage: 85.0 % ---- Accuracy:100.0%\n",
            "Train Percentage: 90.0 % ---- Accuracy:100.0%\n",
            "Train Percentage: 95.0 % ---- Accuracy:100.0%\n"
          ]
        }
      ]
    },
    {
      "cell_type": "markdown",
      "source": [
        "So, as one would expect as we increase the amount of data used for model training the better the model does. However, even at low training data we do quite well. Let's try this again but this time with the class distributions preserved. We will use this with the `stratify` argument."
      ],
      "metadata": {
        "id": "WxMaXiaGL2Qz"
      }
    },
    {
      "cell_type": "code",
      "source": [
        "print(\"For stratified splits...\")\n",
        "for tpct in train_percentages:\n",
        "  X_train, X_test, y_train, y_test = train_test_split(X,y,train_size = tpct, random_state=seed,stratify=y)\n",
        "  classifier.fit(X_train,y_train)\n",
        "  predictions = classifier.predict(X_test)\n",
        "  print(f\"Train Percentage: {np.round(100*tpct,2)} % ---- Accuracy:{np.round(100*accuracy_score(y_test,predictions),2)}%\")\n"
      ],
      "metadata": {
        "colab": {
          "base_uri": "https://localhost:8080/"
        },
        "id": "vQRMfDRFMjRo",
        "outputId": "e7011afd-f1d8-4515-ace8-c4500a1161a0"
      },
      "execution_count": null,
      "outputs": [
        {
          "output_type": "stream",
          "name": "stdout",
          "text": [
            "For stratified splits...\n",
            "Train Percentage: 30.0 % ---- Accuracy:94.29%\n",
            "Train Percentage: 35.0 % ---- Accuracy:93.88%\n",
            "Train Percentage: 40.0 % ---- Accuracy:94.44%\n",
            "Train Percentage: 45.0 % ---- Accuracy:95.18%\n",
            "Train Percentage: 50.0 % ---- Accuracy:93.33%\n",
            "Train Percentage: 55.0 % ---- Accuracy:92.65%\n",
            "Train Percentage: 60.0 % ---- Accuracy:91.67%\n",
            "Train Percentage: 65.0 % ---- Accuracy:90.57%\n",
            "Train Percentage: 70.0 % ---- Accuracy:93.33%\n",
            "Train Percentage: 75.0 % ---- Accuracy:92.11%\n",
            "Train Percentage: 80.0 % ---- Accuracy:90.0%\n",
            "Train Percentage: 85.0 % ---- Accuracy:91.3%\n",
            "Train Percentage: 90.0 % ---- Accuracy:86.67%\n",
            "Train Percentage: 95.0 % ---- Accuracy:100.0%\n"
          ]
        }
      ]
    },
    {
      "cell_type": "markdown",
      "source": [
        "Interesting! If we force the class distribution to be preserved then the model seems to struggle (more). We also see that the relationship between amount of training data and performance is less consistent. What if we try standardizing our data?"
      ],
      "metadata": {
        "id": "n9C28llIMwLA"
      }
    },
    {
      "cell_type": "code",
      "source": [
        "print(\"For stratified and standardized splits...\")\n",
        "for tpct in train_percentages:\n",
        "  X_train, X_test, y_train, y_test = train_test_split(X,y,train_size = tpct, random_state=seed,stratify=y)\n",
        "  scaler = StandardScaler()\n",
        "  scaler.fit(X_train)\n",
        "  X_train = scaler.transform(X_train)\n",
        "  X_test = scaler.transform(X_test)\n",
        "  classifier.fit(X_train,y_train)\n",
        "  predictions = classifier.predict(X_test)\n",
        "  print(f\"Train Percentage: {np.round(100*tpct,2)} % ---- Accuracy:{np.round(100*accuracy_score(y_test,predictions),2)}%\")\n"
      ],
      "metadata": {
        "colab": {
          "base_uri": "https://localhost:8080/"
        },
        "id": "pjrGSfOpOYwJ",
        "outputId": "4638703f-c931-4687-8b98-7972bb29ebae"
      },
      "execution_count": null,
      "outputs": [
        {
          "output_type": "stream",
          "name": "stdout",
          "text": [
            "For stratified splits...\n",
            "Train Percentage: 30.0 % ---- Accuracy:94.29%\n",
            "Train Percentage: 35.0 % ---- Accuracy:94.9%\n",
            "Train Percentage: 40.0 % ---- Accuracy:95.56%\n",
            "Train Percentage: 45.0 % ---- Accuracy:95.18%\n",
            "Train Percentage: 50.0 % ---- Accuracy:94.67%\n",
            "Train Percentage: 55.0 % ---- Accuracy:94.12%\n",
            "Train Percentage: 60.0 % ---- Accuracy:93.33%\n",
            "Train Percentage: 65.0 % ---- Accuracy:92.45%\n",
            "Train Percentage: 70.0 % ---- Accuracy:93.33%\n",
            "Train Percentage: 75.0 % ---- Accuracy:92.11%\n",
            "Train Percentage: 80.0 % ---- Accuracy:90.0%\n",
            "Train Percentage: 85.0 % ---- Accuracy:91.3%\n",
            "Train Percentage: 90.0 % ---- Accuracy:86.67%\n",
            "Train Percentage: 95.0 % ---- Accuracy:100.0%\n"
          ]
        }
      ]
    },
    {
      "cell_type": "markdown",
      "source": [
        "So standardizing doesn't do much. However, this is likely due to the fact that the features are all measured in the same units (cm) and are roughly of the same scale. However, this is not usually true of the datasets we see in practice. In general:\n",
        "\n",
        "- Your **default** move should be to standardize your data.\n",
        "- Standardization **must** be done on the train set. If you fit `StandardScaler` on the full data then information will leak and you will over-estimate model performance.\n"
      ],
      "metadata": {
        "id": "x8plHkBiOwEI"
      }
    },
    {
      "cell_type": "markdown",
      "source": [
        "## 🔵 **6: Hyperparameter Tuning**\n",
        "If you look over the logistic regression documentation you'll see two parameters; a \"penalty\" parameter and a parameter \"C\". We are going to try to choose these values (called **hyperparameters**) in order to maximize model performance. In order to do this we will avail ourselves of two useful features that `scikit-learn` has: `Pipeline` and `GridSearchCV`. We will use `Pipeline` to wrap our train-test split protocol and `GridSearchCV` to try all possible combinations of hyperparameters."
      ],
      "metadata": {
        "id": "yMdcCc7Pe08N"
      }
    },
    {
      "cell_type": "code",
      "source": [
        "from sklearn.model_selection import GridSearchCV\n",
        "from sklearn.pipeline import Pipeline\n",
        "\n",
        "# The Pipeline is a named list of steps that get applied in order.\n",
        "# Since we will be trying multiple penalities we need to specify a\n",
        "# solver that can handle both.\n",
        "model_pipe = Pipeline([('scale',StandardScaler()),('clf',LogisticRegression(solver='liblinear',max_iter=1000))])\n",
        "\n",
        "# Now we specify the parameters to search over.\n",
        "# This takes a form of a dictionary where the parameter names are\n",
        "# taken from the document and we add a prefix so that\n",
        "# GridSearchCV knows to which step the parameters belong.\n",
        "# These need to come after two underscores.\n",
        "\n",
        "param_grid = {\n",
        "    'clf__C':np.logspace(-4, 4, 100),\n",
        "    'clf__penalty':['l1','l2']}"
      ],
      "metadata": {
        "id": "LEgbAmwdhOwU"
      },
      "execution_count": null,
      "outputs": []
    },
    {
      "cell_type": "markdown",
      "source": [
        "In order to choose hyperperparameters we first split the data then use what is called stratified k-fold cross validation. In this process the training data is split into k equal subsets, the model is then fit to the remaining k-1 subsets (folds) and fit to the hold out. The model parameters witht the best average performance over all k folds are kept as the best. We choose $k=5$ because our dataset is small. `scikit-learn` uses stratified kfold splits by default for classification problems."
      ],
      "metadata": {
        "id": "7TmxWRRQjFVU"
      }
    },
    {
      "cell_type": "code",
      "source": [
        "model = GridSearchCV(model_pipe,param_grid,cv=5)\n",
        "print(\"For stratified and standardized splits...\")\n",
        "for tpct in train_percentages:\n",
        "  X_train, X_test, y_train, y_test = train_test_split(X,y,train_size = tpct, random_state=seed,stratify=y)\n",
        "  model.fit(X_train,y_train)\n",
        "\n",
        "  predictions = model.predict(X_test)\n",
        "  print(f\"Train Percentage: {np.round(100*tpct,2)} % ---- Accuracy:{np.round(100*accuracy_score(y_test,predictions),2)}%\")\n",
        "\n"
      ],
      "metadata": {
        "colab": {
          "base_uri": "https://localhost:8080/"
        },
        "id": "dv4JT-bKjbTM",
        "outputId": "7fda613b-b4fd-4318-d692-97013f18678f"
      },
      "execution_count": null,
      "outputs": [
        {
          "output_type": "stream",
          "name": "stdout",
          "text": [
            "For stratified and standardized splits...\n",
            "Train Percentage: 30.0 % ---- Accuracy:94.29%\n",
            "Train Percentage: 35.0 % ---- Accuracy:95.92%\n",
            "Train Percentage: 40.0 % ---- Accuracy:95.56%\n",
            "Train Percentage: 45.0 % ---- Accuracy:95.18%\n",
            "Train Percentage: 50.0 % ---- Accuracy:93.33%\n",
            "Train Percentage: 55.0 % ---- Accuracy:94.12%\n",
            "Train Percentage: 60.0 % ---- Accuracy:93.33%\n",
            "Train Percentage: 65.0 % ---- Accuracy:92.45%\n",
            "Train Percentage: 70.0 % ---- Accuracy:93.33%\n",
            "Train Percentage: 75.0 % ---- Accuracy:92.11%\n",
            "Train Percentage: 80.0 % ---- Accuracy:90.0%\n",
            "Train Percentage: 85.0 % ---- Accuracy:91.3%\n",
            "Train Percentage: 90.0 % ---- Accuracy:93.33%\n",
            "Train Percentage: 95.0 % ---- Accuracy:100.0%\n"
          ]
        }
      ]
    },
    {
      "cell_type": "markdown",
      "source": [
        "We see that tuning the hyperparameters increases our performance, albeit modestly. Once we have fit the model we can use the best hyper-parameters saved to re-fit on the same model. Let's re-do this with 60% of the data held out. The `GridSearchCV` object has an attribute called `best_estimator_` that stores the model with the best hyperparameters."
      ],
      "metadata": {
        "id": "d-sixTeOoKeU"
      }
    },
    {
      "cell_type": "code",
      "source": [
        "X_train, X_test, y_train, y_test = train_test_split(X,y,train_size = 0.6, random_state=seed,stratify=y)\n",
        "model.fit(X_train,y_train)\n",
        "print(model.best_estimator_)\n",
        "\n"
      ],
      "metadata": {
        "colab": {
          "base_uri": "https://localhost:8080/"
        },
        "id": "9UvvVyYKo0MG",
        "outputId": "9b42a8b8-ccf7-4da6-9773-2a7c0edd65b8"
      },
      "execution_count": null,
      "outputs": [
        {
          "output_type": "stream",
          "name": "stdout",
          "text": [
            "Pipeline(steps=[('scale', StandardScaler()),\n",
            "                ('clf',\n",
            "                 LogisticRegression(C=5.857020818056673, max_iter=1000,\n",
            "                                    penalty='l1', solver='liblinear'))])\n"
          ]
        }
      ]
    },
    {
      "cell_type": "markdown",
      "source": [
        "## 🔵 **7: Saving & Loading a Trained Model**\n",
        "Once we've built and trained our model we want to save it for future use so that we (or others) won't need to re-train it. There are many [options](https://scikit-learn.org/stable/model_persistence.html) for this in python. We'll use `joblib` for this example."
      ],
      "metadata": {
        "id": "A7cigKeue2Cl"
      }
    },
    {
      "cell_type": "code",
      "source": [
        "import joblib\n",
        "\n",
        "best_model = model.best_estimator_\n",
        "joblib.dump(best_model,\"./my_model.joblib\")\n",
        "loaded_model = joblib.load(\"./my_model.joblib\")\n",
        "loaded_model.predict(X_test)"
      ],
      "metadata": {
        "id": "Gu0H2UkNe2JV",
        "colab": {
          "base_uri": "https://localhost:8080/"
        },
        "outputId": "b6d2644e-116a-4758-c220-dadf1dc0fa8c"
      },
      "execution_count": null,
      "outputs": [
        {
          "output_type": "execute_result",
          "data": {
            "text/plain": [
              "array([2, 0, 1, 2, 1, 1, 1, 0, 1, 0, 1, 0, 1, 0, 2, 2, 2, 0, 2, 1, 0, 0,\n",
              "       0, 1, 0, 0, 1, 0, 2, 2, 2, 1, 1, 1, 2, 2, 0, 0, 1, 0, 0, 1, 0, 1,\n",
              "       1, 1, 0, 1, 2, 2, 2, 1, 0, 0, 2, 1, 1, 1, 2, 1])"
            ]
          },
          "metadata": {},
          "execution_count": 92
        }
      ]
    },
    {
      "cell_type": "markdown",
      "source": [
        "Alright! The model works and can be loaded. The last step, if we want to apply to genuinely new data, is to re-fit the best model on all our data and save it.\n"
      ],
      "metadata": {
        "id": "4oVwO-RUp1JU"
      }
    },
    {
      "cell_type": "code",
      "source": [
        "production_model = model.best_estimator_\n",
        "production_model.fit(X,y)\n",
        "joblib.dump(production_model,\"./production_model.joblib\")"
      ],
      "metadata": {
        "colab": {
          "base_uri": "https://localhost:8080/"
        },
        "id": "EmVAjFGhp8ht",
        "outputId": "3eae129f-92d6-4b90-d0fb-2bc7ab0a3d36"
      },
      "execution_count": null,
      "outputs": [
        {
          "output_type": "execute_result",
          "data": {
            "text/plain": [
              "['./production_model.joblib']"
            ]
          },
          "metadata": {},
          "execution_count": 93
        }
      ]
    },
    {
      "cell_type": "markdown",
      "source": [
        "---"
      ],
      "metadata": {
        "id": "2Vjl6cC1e2PP"
      }
    }
  ]
}